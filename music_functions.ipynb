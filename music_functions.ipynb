{
 "cells": [
  {
   "cell_type": "markdown",
   "metadata": {},
   "source": [
    "# Funciones Musicales"
   ]
  },
  {
   "cell_type": "code",
   "execution_count": null,
   "metadata": {
    "collapsed": true
   },
   "outputs": [],
   "source": [
    "import librosa\n",
    "import math\n",
    "import matplotlib.pyplot as plt\n",
    "import numpy as np\n",
    "import os\n",
    "from os.path import join\n",
    "import pandas as pd\n",
    "import scipy as sp"
   ]
  },
  {
   "cell_type": "markdown",
   "metadata": {},
   "source": [
    "Cuarto de tono anterior y posterior:\n",
    "$\\quad f_\\text{anterior} = \\dfrac{f_\\text{actual}}{2^\\frac{1}{24}}\\qquad f_\\text{posterior} = 2^\\frac{1}{24} f_\\text{actual}$"
   ]
  },
  {
   "cell_type": "code",
   "execution_count": null,
   "metadata": {
    "collapsed": true
   },
   "outputs": [],
   "source": [
    "def quarter_tone_previous(f): # Cuarto de tono anterior.\n",
    "    return f / (2 ** (1.0 / 24.0))"
   ]
  },
  {
   "cell_type": "code",
   "execution_count": null,
   "metadata": {
    "collapsed": true
   },
   "outputs": [],
   "source": [
    "def quarter_tone_posterior(f): # Cuarto de tono posterior.\n",
    "    return f * (2 ** (1.0 / 24.0))"
   ]
  },
  {
   "cell_type": "markdown",
   "metadata": {
    "collapsed": true
   },
   "source": [
    "# Funciones de Audio DSP\n",
    "Lectura de Audio y Generación de Matriz de Frames.\n",
    "\n",
    "Sea $s$ la señal de audio, la transformada de fourier de tiempo corto (STFT) $S(f,t)$ se define como:\n",
    "\n",
    "$$S(\\omega, t) =\\displaystyle  \\sum_{k = -\\infty}^{\\infty} x[n]w[n]e^{-j\\omega n}$$\n",
    "\n",
    "Con $w$ una ventana, que en este caso corresponde a la ventana Hanning.\n",
    "\n",
    "$\\omega = 2\\pi f $\n",
    "\n",
    "La STFT está en el dominio de frecuencias lineal, sin embargo la escala musical es del tipo logarítmica. Para realizar esta tranformación se multiplican las ventanas temporales de la STFT, por unos filtros triangulares $\\Delta_f$, que se define a continuación:\n",
    "\n",
    "En un intervalo de tiempo de un semitono: $\\Delta f_\\text{semitono} = f_\\text{end} - f_\\text{in}$ y así mismo para cada cuarto de tono:\n",
    "\n",
    "Si $ f_\\text{in} \\leq f \\leq f_\\text{c} \\Rightarrow \\Delta_f = \\dfrac{f - f_\\text{in}}{f_c - f_\\text{in}}$.\n",
    "\n",
    "Si $f_c \\leq f \\leq f_\\text{end} \\Rightarrow \\Delta_f = \\dfrac{f_\\text{end} - f}{f_c - f_\\text{in}}$ \n",
    "\n",
    "Para cualquier otro caso $\\Delta_f = 0$.\n",
    "\n"
   ]
  },
  {
   "cell_type": "code",
   "execution_count": null,
   "metadata": {
    "collapsed": true
   },
   "outputs": [],
   "source": [
    "def triang_filt_quarter_note(fs, n_fft, n_quarter_tones, qt_freq, f_first_note):\n",
    "    triang_filt = np.zeros(shape=(int(n_fft / 2) + 1, n_quarter_tones))\n",
    "    f_vec = np.linspace(float(fs) / n_fft, fs / 2, n_fft / 2)\n",
    "    f_inic = quarter_tone_previous(f_first_note)\n",
    "    for jdx in range(n_quarter_tones):\n",
    "        f_c = qt_freq[jdx]\n",
    "        f_fin = quarter_tone_posterior(f_c)\n",
    "        for idx in range(int(n_fft / 2) + 1):\n",
    "            f = f_vec[idx]\n",
    "            if f >= f_inic and f <= f_c:\n",
    "                triang_filt[idx, jdx] = (f - f_inic) / (f_c - f_inic)\n",
    "            # triang_filt[idx, jdx] = (f_fin - f) / (f_c - f_inic) if f > f_c and f <= f_fin else 0.0\n",
    "            elif f > f_c and f <= f_fin:\n",
    "                triang_filt[idx, jdx] = (f_fin - f) / (f_c - f_inic)\n",
    "            if f > f_fin:\n",
    "                break\n",
    "        f_inic = quarter_tone_posterior(f_inic)\n",
    "    return triang_filt"
   ]
  },
  {
   "cell_type": "code",
   "execution_count": null,
   "metadata": {
    "collapsed": false
   },
   "outputs": [],
   "source": [
    "import sys \n",
    "eps = sys.float_info.epsilon\n",
    "def wav_to_numpy(filename, qt_freq, show_plot=False, export=True):\n",
    "    print(\"Convirtiendo \" + filename + \" a npy.\")\n",
    "    f_inicial = 23 # cuarto de tono debajo de B1\n",
    "    f_final = 169 + 1 # cuarto de tono encima de B7\n",
    "    sig, fs = librosa.load(filename)\n",
    "    power_spectra = np.abs(librosa.stft(sig, win_length=win_length, n_fft=n_fft)) ** 2\n",
    "    triang_filt = triang_filt_quarter_note(fs, n_fft, n_quarter_tones, qt_freq, f_first_note=f_b0)\n",
    "    quarter_note_spectrogram = np.matmul(np.transpose(triang_filt), power_spectra)\n",
    "    quarter_note_spectrogram = np.log10(quarter_note_spectrogram[f_inicial:f_final, :] + eps)\n",
    "    if show_plot:\n",
    "        indexes = 10\n",
    "        plt.rcParams['figure.figsize'] = [25, 15]\n",
    "        with plt.rc_context({'axes.edgecolor':'white',  'axes.labelcolor': 'white', 'xtick.color':'white', \n",
    "                                 'ytick.color':'white', 'figure.facecolor':'black'}):\n",
    "            plt.imshow(quarter_note_spectrogram, origin='origin', aspect='auto')\n",
    "            plt.xticks(np.linspace(0, np.size(quarter_note_spectrogram, 1), indexes), np.round(np.linspace(0, len(sig) / fs, indexes),2))\n",
    "            plt.yticks(range(np.size(quarter_note_spectrogram, 0)),  quarter_tones[f_inicial:f_final])\n",
    "            plt.show()\n",
    "    \n",
    "    timevector_librosa = np.linspace(1. / fs, len(sig) / fs, num=np.size(quarter_note_spectrogram, 1))\n",
    "    out_file = join(os.path.split(filename)[0], 'npy', os.path.split(filename)[1][:-4] + '_(prueba)')\n",
    "    time_file = join(os.path.split(filename)[0], 'timevector', os.path.split(filename)[1][:-4] + '_(prueba)')\n",
    "    # print()\n",
    "    if export:\n",
    "        np.save(out_file, quarter_note_spectrogram)\n",
    "        np.save(time_file, timevector_librosa)\n",
    "\n",
    "    \n",
    "def wav_to_npy_dataset(db_path, qt_freq):\n",
    "    albums = sorted(os.listdir(db_path))\n",
    "    albums = [album for album in albums if not album.endswith('.txt')]\n",
    "    df = pd.DataFrame()\n",
    "    for album in albums:\n",
    "        songs = [song for song in sorted(os.listdir(join(db_path, album))) if song.endswith(\".wav\")]\n",
    "        # wav_to_numpy(filename)\n",
    "        # print(songs)\n",
    "        for song in songs:\n",
    "            filename = join(db_path, album, song)\n",
    "            wav_to_numpy(filename, qt_freq, show_plot=True, export=False)\n",
    "\n",
    "            \n",
    "f_b0 = 30.87          \n",
    "quarter_tones = []\n",
    "quarter_tones_frequency = []\n",
    "music_notes = ['B0', 'C1', 'C#1', 'D1', 'D#1', 'E1', 'F1', 'F#1', 'G1', 'G#1', 'A1', 'A#1',\n",
    "              'B1', 'C2', 'C#2', 'D2', 'D#2', 'E2', 'F2', 'F#2', 'G2', 'G#2', 'A2', 'A#2',\n",
    "              'B2', 'C3', 'C#3', 'D3', 'D#3', 'E3', 'F3', 'F#3', 'G3', 'G#3', 'A3', 'A#3',\n",
    "              'B3', 'C4', 'C#4', 'D4', 'D#4', 'E4', 'F4', 'F#4', 'G4', 'G#4', 'A4', 'A#4',\n",
    "              'B4', 'C5', 'C#5', 'D5', 'D#5', 'E5', 'F5', 'F#5', 'G5', 'G#5', 'A5', 'A#5',\n",
    "              'B5', 'C6', 'C#6', 'D6', 'D#6', 'E6', 'F6', 'F#6', 'G6', 'G#6', 'A6', 'A#6',\n",
    "              'B6', 'C7', 'C#7', 'D7', 'D#7', 'E7', 'F7', 'F#7', 'G7', 'G#7', 'A7', 'A#7',\n",
    "              'B7', 'C8', 'C#8', 'D8', 'D#8']\n",
    "for idx, note in enumerate(music_notes):\n",
    "    actual_note = f_b0 * (2 ** (idx / 12.0))\n",
    "    quarter_tones.append(note)\n",
    "    quarter_tones.append(' ')\n",
    "    quarter_tones_frequency.append(actual_note)\n",
    "    quarter_tones_frequency.append(quarter_tone_posterior(actual_note))\n",
    "n_quarter_tones = len(quarter_tones)\n",
    "\n",
    "f_inic = quarter_tone_previous(f_b0)\n",
    "n_quarter_tones = 178\n",
    "win_length = 4 * 2048\n",
    "overlap = int(win_length * 0.5)\n",
    "n_fft = win_length\n",
    "concatenated_frames = 15\n",
    "l_supervector = concatenated_frames * n_quarter_tones\n",
    "filename = join(os.getcwd(), 'Database', 'Carole King - Tapestry', \"01 - Carole King - I Feel The Earth Move.wav\")\n",
    "timevector_old = np.load(join(os.getcwd(), 'Database', 'Carole King - Tapestry', 'timevector',\n",
    "                              \"01 - Carole King - I Feel The Earth Move_timevector.npy\"))\n",
    "# timevector_librosa = np.linspace(0, len(sig) / fs, num=np.size(power_spectra, 1))\n",
    "# print(time)\n",
    "\n",
    "db_path = os.getcwd() + '/Database'\n",
    "wav_to_npy_dataset(db_path, quarter_tones_frequency)\n",
    "\n"
   ]
  },
  {
   "cell_type": "markdown",
   "metadata": {},
   "source": [
    "# Diccionario de Acordes"
   ]
  },
  {
   "cell_type": "code",
   "execution_count": 1,
   "metadata": {
    "collapsed": true
   },
   "outputs": [],
   "source": [
    "def chord_dict(chords_list):\n",
    "    \n",
    "    raw_data = {\n",
    "        'names': ['C:maj', 'C:min', 'C#:maj', 'C#:min', 'D:maj', 'D:min', 'D#:maj', 'D#:min',\n",
    "                  'E:maj', 'E:min', 'F:maj', 'F:min','F#:maj' ,'F#:min', 'G:maj', 'G:min',\n",
    "                  'G#:maj', 'G#:min', 'A:maj', 'A:min', 'A#:maj', 'A#:min', 'B:maj', 'B:min', 'N'],\n",
    "        'chords': [[1, 0, 0, 0, 1, 0, 0, 1, 0, 0, 0, 0],\n",
    "                   [1, 0, 0, 1, 0, 0, 0, 1, 0, 0, 0, 0], \n",
    "                   [0, 1, 0, 0, 0, 1, 0, 0, 1, 0, 0, 0],\n",
    "                   [0, 1, 0, 0, 1, 0, 0, 0, 1, 0, 0, 0],\n",
    "                   [0, 0, 1, 0, 0, 0, 1, 0, 0, 1, 0, 0],\n",
    "                   [0, 0, 1, 0, 0, 1, 0, 0, 0, 1, 0, 0],   \n",
    "                   [0, 0, 0, 1, 0, 0, 0, 1, 0, 0, 1, 0],\n",
    "                   [0, 0, 0, 1, 0, 0, 1, 0, 0, 0, 1, 0],\n",
    "                   [0, 0, 0, 0, 1, 0, 0, 0, 1, 0, 0, 1],\n",
    "                   [0, 0, 0, 0, 1, 0, 0, 1, 0, 0, 0, 1],\n",
    "                   [1, 0, 0, 0, 0, 1, 0, 0, 0, 1, 0, 0],\n",
    "                   [1, 0, 0, 0, 0, 1, 0, 0, 1, 0, 0, 0],\n",
    "                   [0, 1, 0, 0, 0, 0, 1, 0, 0, 0, 1, 0],\n",
    "                   [0, 1, 0, 0, 0, 0, 1, 0, 0, 1, 0, 0],\n",
    "                   [0, 0, 1, 0, 0, 0, 0, 1, 0, 0, 0, 1],\n",
    "                   [0, 0, 1, 0, 0, 0, 0, 1, 0, 0, 1, 0],\n",
    "                   [1, 0, 0, 1, 0, 0, 0, 0, 1, 0, 0, 0],\n",
    "                   [0, 0, 0, 1, 0, 0, 0, 0, 1, 0, 0, 1],\n",
    "                   [0, 1, 0, 0, 1, 0, 0, 0, 0, 1, 0, 0],\n",
    "                   [1, 0, 0, 0, 1, 0, 0, 0, 0, 1, 0, 0],\n",
    "                   [0, 0, 1, 0, 0, 1, 0, 0, 0, 0, 1, 0],\n",
    "                   [0, 1, 0, 0, 0, 1, 0, 0, 0, 0, 1, 0],\n",
    "                   [0, 0, 0, 1, 0, 0, 1, 0, 0, 0, 0, 1],\n",
    "                   [0, 0, 1, 0, 0, 0, 1, 0, 0, 0, 0, 1], \n",
    "                   [0, 0, 0, 0, 0, 0, 0, 0, 0, 0, 0 ,0]]\n",
    "               }\n",
    "    dict_chords = pd.DataFrame(raw_data, index=['C:maj', 'C:min', 'C#:maj', 'C#:min', 'D:maj', 'D:min', 'D#:maj', 'D#:min',\n",
    "                  'E:maj', 'E:min', 'F:maj', 'F:min','F#:maj' ,'F#:min', 'G:maj', 'G:min',\n",
    "                  'G#:maj', 'G#:min', 'A:maj', 'A:min', 'A#:maj', 'A#:min', 'B:maj', 'B:min', 'N'])\n",
    "    return np.array([dict_chords['chords'][chord] for chord in chords_list])"
   ]
  },
  {
   "cell_type": "markdown",
   "metadata": {
    "collapsed": true
   },
   "source": [
    "# Sala de Pruebas"
   ]
  },
  {
   "cell_type": "code",
   "execution_count": null,
   "metadata": {
    "collapsed": false
   },
   "outputs": [],
   "source": [
    "import librosa\n",
    "import math\n",
    "import matplotlib.pyplot as plt\n",
    "import numpy as np\n",
    "import os\n",
    "from os.path import join\n",
    "import pandas as pd\n",
    "import scipy as sp\n",
    "\n",
    "f_b0 = 30.87\n",
    "f_inic = quarter_tone_previous(f_b0)\n",
    "# n_quarter_tones = 178\n",
    "win_length = 4 * 2048\n",
    "overlap = int(win_length * 0.5)\n",
    "n_fft = win_length\n",
    "concatenated_frames = 15\n",
    "l_supervector = concatenated_frames * n_quarter_tones\n",
    "\n",
    "''' Todo lo necesario para los filtros triangulares '''\n",
    "quarter_tones = []\n",
    "quarter_tones_frequency = []\n",
    "music_notes = ['B0', 'C1', 'C#1', 'D1', 'D#1', 'E1', 'F1', 'F#1', 'G1', 'G#1', 'A1', 'A#1',\n",
    "              'B1', 'C2', 'C#2', 'D2', 'D#2', 'E2', 'F2', 'F#2', 'G2', 'G#2', 'A2', 'A#2',\n",
    "              'B2', 'C3', 'C#3', 'D3', 'D#3', 'E3', 'F3', 'F#3', 'G3', 'G#3', 'A3', 'A#3',\n",
    "              'B3', 'C4', 'C#4', 'D4', 'D#4', 'E4', 'F4', 'F#4', 'G4', 'G#4', 'A4', 'A#4',\n",
    "              'B4', 'C5', 'C#5', 'D5', 'D#5', 'E5', 'F5', 'F#5', 'G5', 'G#5', 'A5', 'A#5',\n",
    "              'B5', 'C6', 'C#6', 'D6', 'D#6', 'E6', 'F6', 'F#6', 'G6', 'G#6', 'A6', 'A#6',\n",
    "              'B6', 'C7', 'C#7', 'D7', 'D#7', 'E7', 'F7', 'F#7', 'G7', 'G#7', 'A7', 'A#7',\n",
    "              'B7', 'C8', 'C#8', 'D8', 'D#8']\n",
    "for idx, note in enumerate(music_notes):\n",
    "    actual_note = f_b0 * (2 ** (idx / 12.0))\n",
    "    quarter_tones.append(note)\n",
    "    quarter_tones.append(' ')\n",
    "    quarter_tones_frequency.append(actual_note)\n",
    "    quarter_tones_frequency.append(quarter_tone_posterior(actual_note))\n",
    "n_quarter_tones = len(quarter_tones)\n",
    "print(n_quarter_tones)\n",
    "\n",
    "''' FILTRO TRIANGULAR '''\n",
    "'''\n",
    "def triang_filt_quarter_note(fs, n_fft, n_quarter_tones, f_first_note):\n",
    "    triang_filt = np.zeros(shape=(int(n_fft / 2) + 1, n_quarter_tones))\n",
    "    f_vec = np.linspace(float(fs) / n_fft, fs / 2, n_fft / 2)\n",
    "    f_inic = quarter_tone_previous(f_first_note)\n",
    "    for jdx in range(n_quarter_tones):\n",
    "        f_c = quarter_tones_frequency[jdx]\n",
    "        # f_inic = quarter_tone_previous(fc)\n",
    "        # f_c = quarter_tone_posterior(f_inic)\n",
    "        f_fin = quarter_tone_posterior(f_c)\n",
    "        # print(f_inic, f_c, f_fin)\n",
    "        #f_fin = quarter_tone\n",
    "        for idx in range(int(n_fft / 2) + 1):\n",
    "            f = f_vec[idx]\n",
    "            if f >= f_inic and f <= f_c:\n",
    "                triang_filt[idx, jdx] = (f - f_inic) / (f_c - f_inic)\n",
    "            # triang_filt[idx, jdx] = (f_fin - f) / (f_c - f_inic) if f > f_c and f <= f_fin else 0.0\n",
    "            elif f > f_c and f <= f_fin:\n",
    "                triang_filt[idx, jdx] = (f_fin - f) / (f_c - f_inic)\n",
    "            if f > f_fin:\n",
    "                break\n",
    "        f_inic = quarter_tone_posterior(f_inic)\n",
    "    return triang_filt\n",
    "'''\n",
    "\n",
    "filename = join(os.getcwd(), 'Database', 'Carole King - Tapestry', \"01 - Carole King - I Feel The Earth Move.wav\")\n",
    "sig, fs = librosa.load(filename)\n",
    "# time = np.linspace(1./fs ,len(sig) / fs, num=len(sig))\n",
    "power_spectra = np.abs(librosa.stft(sig, win_length=win_length, n_fft=n_fft)) ** 2\n",
    "triang_filt = triang_filt_quarter_note(fs, n_fft, n_quarter_tones, f_first_note=f_b0)\n",
    "    # plt.xlim([0, time[-1]])"
   ]
  },
  {
   "cell_type": "code",
   "execution_count": null,
   "metadata": {
    "collapsed": false
   },
   "outputs": [],
   "source": [
    "import matplotlib.animation as animation\n",
    "plt.rcParams['figure.figsize'] = [20, 5]\n",
    "plot_range = 1975\n",
    "indexes = 10\n",
    "freq = 170\n",
    "\n",
    "with plt.rc_context({'axes.edgecolor':'white',  'axes.labelcolor': 'white', 'xtick.color':'white', \n",
    "                         'ytick.color':'white', 'figure.facecolor':'black'}):\n",
    "    # plt.imshow(np.log10(power_spectra), origin='origin', aspect='auto')\n",
    "    plt.plot(triang_filt_2[:plot_range, freq])\n",
    "    plt.xticks(np.linspace(0, plot_range, indexes), np.round(f_vec[np.int32(np.linspace(0, plot_range, indexes))]))"
   ]
  },
  {
   "cell_type": "code",
   "execution_count": null,
   "metadata": {
    "collapsed": false
   },
   "outputs": [],
   "source": [
    "print(np.size(triang_filt, 0), np.size(triang_filt, 1))\n",
    "print(np.size(power_spectra, 0), np.size(power_spectra, 1))\n",
    "print(int(n_fft/ 2))\n",
    "# print(len(time))\n",
    "quarter_note_spectrogram= np.log10(np.matmul(np.transpose(triang_filt), power_spectra))\n",
    "'''\n",
    "indexes = 10\n",
    "plt.rcParams['figure.figsize'] = [25, 15]\n",
    "with plt.rc_context({'axes.edgecolor':'white',  'axes.labelcolor': 'white', 'xtick.color':'white', \n",
    "                         'ytick.color':'white', 'figure.facecolor':'black'}):\n",
    "    plt.imshow(np.log10(quarter_note_spectrogram), origin='origin', aspect='auto')\n",
    "    # plt.plot(triang_filt_2[:plot_range, freq])\n",
    "    # plt.xticks(np.linspace(0, plot_range, indexes), np.round(f_vec[np.int32(np.linspace(0, plot_range, indexes))]))\n",
    "    plt.xticks(np.linspace(0, np.size(quarter_note_spectrogram, 1), indexes), np.round(np.linspace(0, len(sig) / fs, indexes),2))\n",
    "     #plt.yticks(range(np.size(quarter_note_spectrogram, 0)), [str(round(x, 2)) for x in quarter_tones_frequency] + quarter_tones)\n",
    "    plt.yticks(range(np.size(quarter_note_spectrogram, 0)),  quarter_tones)\n",
    "'''"
   ]
  },
  {
   "cell_type": "code",
   "execution_count": null,
   "metadata": {
    "collapsed": false
   },
   "outputs": [],
   "source": [
    "cont = 0\n",
    "for n, f in enumerate(quarter_tones_frequency):\n",
    "    print(n, quarter_tones[n], f)\n",
    "\n",
    "# nueva frecuencia inicial: 59.9 Hz. Primer índice 23. Cuarto de tono anterior a C2\n",
    "# nueva frecuencia final: 3951 Hz. Último índice \n",
    "f_inicial = 23\n",
    "octavas = 2\n",
    "f_final = f_inicial + 24 * octavas\n",
    "indexes = 10\n",
    "plt.rcParams['figure.figsize'] = [25, 15]\n",
    "with plt.rc_context({'axes.edgecolor':'white',  'axes.labelcolor': 'white', 'xtick.color':'white', \n",
    "                         'ytick.color':'white', 'figure.facecolor':'black'}):\n",
    "    plt.imshow(np.log10(quarter_note_spectrogram[f_inicial:f_final, :]), origin='origin', aspect='auto')\n",
    "    # plt.plot(triang_filt_2[:plot_range, freq])\n",
    "    # plt.xticks(np.linspace(0, plot_range, indexes), np.round(f_vec[np.int32(np.linspace(0, plot_range, indexes))]))\n",
    "    plt.xticks(np.linspace(0, np.size(quarter_note_spectrogram, 1), indexes), np.round(np.linspace(0, len(sig) / fs, indexes),2))\n",
    "     #plt.yticks(range(np.size(quarter_note_spectrogram, 0)), [str(round(x, 2)) for x in quarter_tones_frequency] + quarter_tones)\n",
    "    plt.yticks(range(np.size(quarter_note_spectrogram[f_inicial:f_final, :], 0)),  quarter_tones[f_inicial:f_final])"
   ]
  },
  {
   "cell_type": "markdown",
   "metadata": {},
   "source": []
  },
  {
   "cell_type": "markdown",
   "metadata": {},
   "source": []
  }
 ],
 "metadata": {
  "kernelspec": {
   "display_name": "Python 3",
   "language": "python",
   "name": "python3"
  },
  "language_info": {
   "codemirror_mode": {
    "name": "ipython",
    "version": 3
   },
   "file_extension": ".py",
   "mimetype": "text/x-python",
   "name": "python",
   "nbconvert_exporter": "python",
   "pygments_lexer": "ipython3",
   "version": "3.5.3"
  }
 },
 "nbformat": 4,
 "nbformat_minor": 2
}
